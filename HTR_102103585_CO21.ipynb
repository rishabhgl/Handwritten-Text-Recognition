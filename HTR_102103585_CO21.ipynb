{
 "cells": [
  {
   "cell_type": "code",
   "execution_count": 2,
   "id": "2cd1f4fa",
   "metadata": {},
   "outputs": [
    {
     "name": "stdout",
     "output_type": "stream",
     "text": [
      "digit is :  2\n"
     ]
    },
    {
     "data": {
      "image/png": "[encoded data removed]",
      "text/plain": [
       "<Figure size 700x700 with 1 Axes>"
      ]
     },
     "metadata": {},
     "output_type": "display_data"
    }
   ],
   "source": [
    "import numpy as np\n",
    "import pandas as pd\n",
    "import matplotlib.pyplot as plt\n",
    "import seaborn as sns\n",
    "train_data = pd.read_csv(\"train.csv\")\n",
    "test_data = pd.read_csv(\"test.csv\")\n",
    "y_train = train_data[\"label\"]\n",
    "x_train = train_data.drop(\"label\", axis=1)\n",
    "y_test = test_data[\"label\"]\n",
    "x_test = test_data.drop(\"label\", axis=1)\n",
    "plt.figure(figsize=(7,7))\n",
    "digit = 41000\n",
    "image = x_train.iloc[digit].to_numpy()\n",
    "plt.imshow(np.reshape(image, (28,28))) # 28 x 28 bit\n",
    "print(\"digit is : \", y_train[digit])"
   ]
  },
  {
   "cell_type": "code",
   "execution_count": 3,
   "id": "5f613612",
   "metadata": {},
   "outputs": [
    {
     "data": {
      "text/plain": [
       "<AxesSubplot: xlabel='label', ylabel='count'>"
      ]
     },
     "execution_count": 3,
     "metadata": {},
     "output_type": "execute_result"
    },
    {
     "data": {
      "image/png": "[encoded data removed]",
      "text/plain": [
       "<Figure size 640x480 with 1 Axes>"
      ]
     },
     "metadata": {},
     "output_type": "display_data"
    }
   ],
   "source": [
    "sns.countplot(x='label', data=train_data)"
   ]
  },
  {
   "cell_type": "code",
   "execution_count": 5,
   "id": "dd0d784e",
   "metadata": {},
   "outputs": [
    {
     "data": {
      "text/plain": [
       "array([7, 2, 1, ..., 4, 5, 6], dtype=int64)"
      ]
     },
     "execution_count": 5,
     "metadata": {},
     "output_type": "execute_result"
    }
   ],
   "source": [
    "# For K = 3\n",
    "from sklearn.neighbors import KNeighborsClassifier\n",
    "classifier_3 = KNeighborsClassifier(n_neighbors=3)\n",
    "classifier_3.fit(x_train, y_train)\n",
    "results = classifier_3.predict(x_test)\n",
    "results"
   ]
  },
  {
   "cell_type": "code",
   "execution_count": 6,
   "id": "8141e548",
   "metadata": {},
   "outputs": [
    {
     "name": "stdout",
     "output_type": "stream",
     "text": [
      "0.9774\n"
     ]
    }
   ],
   "source": [
    "from sklearn.metrics import accuracy_score, classification_report, confusion_matrix\n",
    "print(accuracy_score(y_test, results))"
   ]
  },
  {
   "cell_type": "code",
   "execution_count": 8,
   "id": "b56476d3",
   "metadata": {},
   "outputs": [
    {
     "name": "stdout",
     "output_type": "stream",
     "text": [
      "              precision    recall  f1-score   support\n",
      "\n",
      "           0       0.98      0.99      0.99       980\n",
      "           1       0.97      1.00      0.98      1135\n",
      "           2       0.99      0.97      0.98      1032\n",
      "           3       0.97      0.98      0.98      1010\n",
      "           4       0.98      0.98      0.98       982\n",
      "           5       0.97      0.98      0.98       892\n",
      "           6       0.99      0.99      0.99       958\n",
      "           7       0.97      0.97      0.97      1028\n",
      "           8       1.00      0.95      0.97       974\n",
      "           9       0.97      0.96      0.97      1009\n",
      "\n",
      "    accuracy                           0.98     10000\n",
      "   macro avg       0.98      0.98      0.98     10000\n",
      "weighted avg       0.98      0.98      0.98     10000\n",
      "\n"
     ]
    }
   ],
   "source": [
    "print(classification_report(y_test, results))"
   ]
  },
  {
   "cell_type": "code",
   "execution_count": 10,
   "id": "b857e1bf",
   "metadata": {},
   "outputs": [
    {
     "name": "stdout",
     "output_type": "stream",
     "text": [
      "[[ 973    1    1    0    0    1    3    1    0    0]\n",
      " [   0 1134    1    0    0    0    0    0    0    0]\n",
      " [   6    6 1005    1    0    0    1   11    2    0]\n",
      " [   1    2    3  989    1    6    0    6    0    2]\n",
      " [   0    4    0    0  961    0    2    2    0   13]\n",
      " [   3    0    0    8    2  871    2    1    1    4]\n",
      " [   5    4    0    0    2    2  945    0    0    0]\n",
      " [   0   15    3    0    1    0    0 1000    0    9]\n",
      " [   5    2    3   13    5   11    2    4  923    6]\n",
      " [   2    6    2    6    8    3    1    8    0  973]]\n"
     ]
    }
   ],
   "source": [
    "print(confusion_matrix(y_test, results))\n"
   ]
  },
  {
   "cell_type": "code",
   "execution_count": 11,
   "id": "648bb5e8",
   "metadata": {},
   "outputs": [
    {
     "data": {
      "text/plain": [
       "array([7, 2, 1, ..., 4, 5, 6], dtype=int64)"
      ]
     },
     "execution_count": 11,
     "metadata": {},
     "output_type": "execute_result"
    }
   ],
   "source": [
    "#For N = 1\n",
    "from sklearn.neighbors import KNeighborsClassifier\n",
    "classifier_1 = KNeighborsClassifier(n_neighbors=1)\n",
    "classifier_1.fit(x_train, y_train)\n",
    "predictions = classifier_1.predict(x_test)\n",
    "predictions"
   ]
  },
  {
   "cell_type": "code",
   "execution_count": 12,
   "id": "7bb72064",
   "metadata": {},
   "outputs": [
    {
     "name": "stdout",
     "output_type": "stream",
     "text": [
      "Accuracy Score:\n",
      "0.9867\n",
      "Classification Report:\n",
      "              precision    recall  f1-score   support\n",
      "\n",
      "           0       0.99      0.99      0.99       980\n",
      "           1       0.99      1.00      0.99      1135\n",
      "           2       1.00      0.98      0.99      1032\n",
      "           3       0.98      0.98      0.98      1010\n",
      "           4       0.99      0.98      0.99       982\n",
      "           5       0.98      0.98      0.98       892\n",
      "           6       0.99      0.99      0.99       958\n",
      "           7       0.98      0.99      0.98      1028\n",
      "           8       1.00      0.98      0.99       974\n",
      "           9       0.98      0.98      0.98      1009\n",
      "\n",
      "    accuracy                           0.99     10000\n",
      "   macro avg       0.99      0.99      0.99     10000\n",
      "weighted avg       0.99      0.99      0.99     10000\n",
      "\n",
      "Confusion Matrix:\n",
      "[[ 975    1    0    0    0    1    2    1    0    0]\n",
      " [   0 1135    0    0    0    0    0    0    0    0]\n",
      " [   4    3 1016    2    2    0    1    4    0    0]\n",
      " [   0    0    1  990    1   11    0    4    1    2]\n",
      " [   0    2    0    0  967    0    1    3    1    8]\n",
      " [   3    0    0    6    2  877    1    1    1    1]\n",
      " [   2    3    0    0    1    1  950    0    1    0]\n",
      " [   0    5    1    0    0    0    0 1016    0    6]\n",
      " [   1    0    1    8    1    5    0    3  950    5]\n",
      " [   1    2    0    2    2    0    1   10    0  991]]\n"
     ]
    }
   ],
   "source": [
    "#Checking accuracy measures for N = 1\n",
    "print(\"Accuracy Score:\")\n",
    "print(accuracy_score(y_test, predictions))\n",
    "print(\"Classification Report:\")\n",
    "print(classification_report(y_test, predictions))\n",
    "print(\"Confusion Matrix:\")\n",
    "print(confusion_matrix(y_test, predictions))"
   ]
  },
  {
   "cell_type": "code",
   "execution_count": 17,
   "id": "accdbace",
   "metadata": {},
   "outputs": [
    {
     "data": {
      "text/plain": [
       "array([7, 2, 1, ..., 4, 5, 6], dtype=int64)"
      ]
     },
     "execution_count": 17,
     "metadata": {},
     "output_type": "execute_result"
    }
   ],
   "source": [
    "#For N = 5\n",
    "from sklearn.neighbors import KNeighborsClassifier\n",
    "classifier_5 = KNeighborsClassifier(n_neighbors=5)\n",
    "classifier_5.fit(x_train, y_train)\n",
    "results3 = classifier_5.predict(x_test)\n",
    "results3"
   ]
  },
  {
   "cell_type": "code",
   "execution_count": 18,
   "id": "eeed77d1",
   "metadata": {},
   "outputs": [
    {
     "name": "stdout",
     "output_type": "stream",
     "text": [
      "Accuracy Score:\n",
      "0.9731\n",
      "Classification Report:\n",
      "              precision    recall  f1-score   support\n",
      "\n",
      "           0       0.97      0.99      0.98       980\n",
      "           1       0.96      1.00      0.98      1135\n",
      "           2       0.98      0.97      0.97      1032\n",
      "           3       0.97      0.98      0.98      1010\n",
      "           4       0.97      0.97      0.97       982\n",
      "           5       0.97      0.98      0.97       892\n",
      "           6       0.99      0.99      0.99       958\n",
      "           7       0.96      0.97      0.97      1028\n",
      "           8       0.99      0.94      0.97       974\n",
      "           9       0.96      0.96      0.96      1009\n",
      "\n",
      "    accuracy                           0.97     10000\n",
      "   macro avg       0.97      0.97      0.97     10000\n",
      "weighted avg       0.97      0.97      0.97     10000\n",
      "\n",
      "Confusion Matrix:\n",
      "[[ 973    1    1    0    0    1    3    1    0    0]\n",
      " [   0 1134    1    0    0    0    0    0    0    0]\n",
      " [   9    8  997    1    0    0    1   14    2    0]\n",
      " [   0    1    4  987    1    8    0    5    2    2]\n",
      " [   1    8    0    0  951    0    3    2    1   16]\n",
      " [   4    0    0    8    3  870    3    1    0    3]\n",
      " [   4    4    0    0    3    2  944    0    1    0]\n",
      " [   0   20    3    0    2    0    0  993    0   10]\n",
      " [   5    5    6   12    5   14    2    5  915    5]\n",
      " [   3    5    2    6   11    4    1    9    1  967]]\n"
     ]
    }
   ],
   "source": [
    "#Checking accuracy measures for N = 5\n",
    "print(\"Accuracy Score:\")\n",
    "print(accuracy_score(y_test, results3))\n",
    "print(\"Classification Report:\")\n",
    "print(classification_report(y_test, results3))\n",
    "print(\"Confusion Matrix:\")\n",
    "print(confusion_matrix(y_test, results3))"
   ]
  },
  {
   "cell_type": "code",
   "execution_count": 19,
   "id": "3b2c787d",
   "metadata": {},
   "outputs": [
    {
     "data": {
      "text/plain": [
       "array([7, 2, 1, ..., 4, 5, 6], dtype=int64)"
      ]
     },
     "execution_count": 19,
     "metadata": {},
     "output_type": "execute_result"
    }
   ],
   "source": [
    "#For N = 10\n",
    "from sklearn.neighbors import KNeighborsClassifier\n",
    "classifier_10 = KNeighborsClassifier(n_neighbors=10)\n",
    "classifier_10.fit(x_train, y_train)\n",
    "results4 = classifier_10.predict(x_test)\n",
    "results4"
   ]
  },
  {
   "cell_type": "code",
   "execution_count": 20,
   "id": "bfc60309",
   "metadata": {},
   "outputs": [
    {
     "name": "stdout",
     "output_type": "stream",
     "text": [
      "Accuracy Score:\n",
      "0.9688\n",
      "Classification Report:\n",
      "              precision    recall  f1-score   support\n",
      "\n",
      "           0       0.97      0.99      0.98       980\n",
      "           1       0.94      1.00      0.97      1135\n",
      "           2       0.98      0.95      0.96      1032\n",
      "           3       0.97      0.98      0.97      1010\n",
      "           4       0.97      0.96      0.97       982\n",
      "           5       0.97      0.98      0.97       892\n",
      "           6       0.98      0.98      0.98       958\n",
      "           7       0.96      0.96      0.96      1028\n",
      "           8       0.99      0.94      0.96       974\n",
      "           9       0.96      0.96      0.96      1009\n",
      "\n",
      "    accuracy                           0.97     10000\n",
      "   macro avg       0.97      0.97      0.97     10000\n",
      "weighted avg       0.97      0.97      0.97     10000\n",
      "\n",
      "Confusion Matrix:\n",
      "[[ 972    1    1    0    0    2    3    1    0    0]\n",
      " [   0 1131    2    1    0    0    1    0    0    0]\n",
      " [  15   11  978    2    0    0    2   19    5    0]\n",
      " [   0    3    2  985    1    9    1    6    2    1]\n",
      " [   1   12    0    0  946    0    4    1    1   17]\n",
      " [   4    1    0    7    1  870    3    1    0    5]\n",
      " [   4    5    0    0    3    3  943    0    0    0]\n",
      " [   0   28    5    0    2    0    0  986    0    7]\n",
      " [   6    4    6   12    6   11    3    7  911    8]\n",
      " [   3    6    3    5   12    2    1   10    1  966]]\n"
     ]
    }
   ],
   "source": [
    "#Checking accuracy measures for N = 10\n",
    "print(\"Accuracy Score:\")\n",
    "print(accuracy_score(y_test, results4))\n",
    "print(\"Classification Report:\")\n",
    "print(classification_report(y_test, results4))\n",
    "print(\"Confusion Matrix:\")\n",
    "print(confusion_matrix(y_test, results4))"
   ]
  },
  {
   "cell_type": "code",
   "execution_count": 21,
   "id": "358430bf",
   "metadata": {},
   "outputs": [
    {
     "data": {
      "text/plain": [
       "array([7, 2, 1, ..., 4, 5, 6], dtype=int64)"
      ]
     },
     "execution_count": 21,
     "metadata": {},
     "output_type": "execute_result"
    }
   ],
   "source": [
    "#For N = 100\n",
    "from sklearn.neighbors import KNeighborsClassifier\n",
    "classifier_100 = KNeighborsClassifier(n_neighbors=100)\n",
    "classifier_100.fit(x_train, y_train)\n",
    "results5 = classifier_100.predict(x_test)\n",
    "results5"
   ]
  },
  {
   "cell_type": "code",
   "execution_count": 22,
   "id": "ac7aad89",
   "metadata": {},
   "outputs": [
    {
     "name": "stdout",
     "output_type": "stream",
     "text": [
      "Accuracy Score:\n",
      "0.9382\n",
      "Classification Report:\n",
      "              precision    recall  f1-score   support\n",
      "\n",
      "           0       0.94      0.99      0.96       980\n",
      "           1       0.86      1.00      0.92      1135\n",
      "           2       0.99      0.87      0.93      1032\n",
      "           3       0.94      0.95      0.95      1010\n",
      "           4       0.97      0.92      0.94       982\n",
      "           5       0.96      0.93      0.94       892\n",
      "           6       0.95      0.97      0.96       958\n",
      "           7       0.93      0.92      0.93      1028\n",
      "           8       0.98      0.88      0.93       974\n",
      "           9       0.91      0.95      0.92      1009\n",
      "\n",
      "    accuracy                           0.94     10000\n",
      "   macro avg       0.94      0.94      0.94     10000\n",
      "weighted avg       0.94      0.94      0.94     10000\n",
      "\n",
      "Confusion Matrix:\n",
      "[[ 967    1    0    0    0    3    8    1    0    0]\n",
      " [   0 1131    2    1    0    0    1    0    0    0]\n",
      " [  24   53  898    7    3    1    6   30   10    0]\n",
      " [   0    8    3  964    1    9    1   13    6    5]\n",
      " [   0   24    0    0  904    1   11    3    1   38]\n",
      " [   5   13    0   17    1  826   12    2    0   16]\n",
      " [   9    9    0    0    4    2  934    0    0    0]\n",
      " [   0   52    2    0    2    0    0  949    0   23]\n",
      " [  12   18    2   24   13   18    5    9  855   18]\n",
      " [   8   12    2    8    7    2    2   14    0  954]]\n"
     ]
    }
   ],
   "source": [
    "#Checking accuracy measures for N = 100\n",
    "print(\"Accuracy Score:\")\n",
    "print(accuracy_score(y_test, results5))\n",
    "print(\"Classification Report:\")\n",
    "print(classification_report(y_test, results5))\n",
    "print(\"Confusion Matrix:\")\n",
    "print(confusion_matrix(y_test, results5))"
   ]
  },
  {
   "cell_type": "code",
   "execution_count": null,
   "id": "f7945935",
   "metadata": {},
   "outputs": [],
   "source": []
  }
 ],
 "metadata": {
  "kernelspec": {
   "display_name": "Python 3 (ipykernel)",
   "language": "python",
   "name": "python3"
  },
  "language_info": {
   "codemirror_mode": {
    "name": "ipython",
    "version": 3
   },
   "file_extension": ".py",
   "mimetype": "text/x-python",
   "name": "python",
   "nbconvert_exporter": "python",
   "pygments_lexer": "ipython3",
   "version": "3.11.1"
  }
 },
 "nbformat": 4,
 "nbformat_minor": 5
}
